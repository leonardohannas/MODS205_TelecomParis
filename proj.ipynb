{
 "cells": [
  {
   "cell_type": "markdown",
   "metadata": {},
   "source": [
    "# MODS205 - Digital Finance - Project\n",
    "\n",
    "### Leonardo Hannas de Carvalho Santos\n",
    "### Vinícius Barros Alvarenga"
   ]
  },
  {
   "cell_type": "markdown",
   "metadata": {},
   "source": [
    "---\n",
    "## Question 1\n",
    "**Comment on the article “Crypto’s Richest Rebel” from Fortune April/May 2022 available on the e-campus website using all keywords and concepts covered in the course.**"
   ]
  },
  {
   "cell_type": "markdown",
   "metadata": {},
   "source": []
  },
  {
   "cell_type": "markdown",
   "metadata": {},
   "source": []
  },
  {
   "cell_type": "markdown",
   "metadata": {},
   "source": [
    "---\n",
    "## Question 2\n",
    "**Comment on the article “Binance CEO Changpeng Zhao charged with money laundering” from Fortune Website 2023-11-23 available on the e-campus website using all keywords and concepts covered in the course.**"
   ]
  },
  {
   "cell_type": "markdown",
   "metadata": {},
   "source": []
  },
  {
   "cell_type": "markdown",
   "metadata": {},
   "source": []
  },
  {
   "cell_type": "markdown",
   "metadata": {},
   "source": [
    "---\n",
    "## Question 3"
   ]
  },
  {
   "cell_type": "code",
   "execution_count": 12,
   "metadata": {},
   "outputs": [],
   "source": [
    "import numpy as np\n",
    "import pandas as pd\n",
    "import seaborn as sns\n",
    "import matplotlib.pyplot as plt"
   ]
  },
  {
   "cell_type": "markdown",
   "metadata": {},
   "source": [
    "### Question 3.1\n",
    "**Import data in Excel (2 stocks, CAC40 index, 5-week interest rate from the US Treasury). Sort data by date and make sure that all dates coincides for all columns. Adjust cells if there are missing values.**"
   ]
  },
  {
   "cell_type": "code",
   "execution_count": 13,
   "metadata": {},
   "outputs": [],
   "source": [
    "# Data for the 2 stocks\n",
    "air_liquide_stock = pd.read_csv('AI.PA.csv')\n",
    "peugeot_stock = pd.read_csv('UG.PA.csv')\n",
    "\n",
    "# Data for the CAC40 index\n",
    "CAC40 = pd.read_csv('^FCHI.csv')\n",
    "\n",
    "# Data for 5-week interest rate from the US Treasury\n",
    "interest_rate = pd.read_csv('^IRX.csv')\n",
    "\n",
    "# List of the dataframes\n",
    "df_list = [air_liquide_stock, peugeot_stock, CAC40, interest_rate]"
   ]
  },
  {
   "cell_type": "code",
   "execution_count": 14,
   "metadata": {},
   "outputs": [],
   "source": [
    "# Function to replace the null (nan) values of the datavrframes with the mean of the column\n",
    "def replace_nan_with_mean(df_list):\n",
    "    updated_dfs = []\n",
    "    for df in df_list:\n",
    "        for col in df.columns:\n",
    "            if df[col].isnull().any():\n",
    "                df[col].fillna(df[col].mean(), inplace=True)\n",
    "        updated_dfs.append(df)\n",
    "    return updated_dfs\n",
    "\n",
    "updated_list = replace_nan_with_mean(df_list)"
   ]
  },
  {
   "cell_type": "code",
   "execution_count": 15,
   "metadata": {},
   "outputs": [
    {
     "name": "stdout",
     "output_type": "stream",
     "text": [
      "The dataframes didn't have null values\n"
     ]
    }
   ],
   "source": [
    "# Check if the dataframes had null values and have been updated\n",
    "if updated_list == df_list:\n",
    "    print(\"The dataframes didn't have null values\")\n",
    "else:\n",
    "    print(\"The dataframes had null values and have been updated\")"
   ]
  },
  {
   "cell_type": "code",
   "execution_count": 16,
   "metadata": {},
   "outputs": [
    {
     "name": "stdout",
     "output_type": "stream",
     "text": [
      "Air liquid stock shape = (255, 7)\n",
      "Peugeot stock shape = (255, 7)\n",
      "CAC40 shape = (255, 7)\n",
      "Interest rate shape = (252, 7)\n"
     ]
    }
   ],
   "source": [
    "# Dimensions of the dataframes\n",
    "print(f\"Air liquid stock shape = {air_liquide_stock.shape}\")\n",
    "print(f\"Peugeot stock shape = {peugeot_stock.shape}\")\n",
    "print(f\"CAC40 shape = {CAC40.shape}\")\n",
    "print(f\"Interest rate shape = {interest_rate.shape}\")"
   ]
  },
  {
   "cell_type": "code",
   "execution_count": 17,
   "metadata": {},
   "outputs": [],
   "source": [
    "# Function to convert the date column from string to datetime\n",
    "def str_to_date(column_name, df_list):\n",
    "    for df in df_list:\n",
    "        df[column_name] = pd.to_datetime(df[column_name])\n",
    "    return df_list"
   ]
  },
  {
   "cell_type": "code",
   "execution_count": 18,
   "metadata": {},
   "outputs": [],
   "source": [
    "# Function to align the dataframes\n",
    "def align_dataframes(df_list):\n",
    "    # Create a set with all the dates present in all the dataframes\n",
    "    dates = set.intersection(*(set(df['Date']) for df in df_list))\n",
    "\n",
    "    # Criates a new list of dataframes, where each dataframe is filtered to contain only the dates present in all dataframes\n",
    "    list_aligned_dfs = [df[df['Date'].isin(dates)].sort_values('Date').reset_index(drop=True) for df in df_list]\n",
    "\n",
    "    # Verifies if all the dates are present in all the dataframes\n",
    "    for data in dates:\n",
    "        if not all(data in df['Date'].values for df in list_aligned_dfs):\n",
    "            # If a date is not present in all dataframes, remove that date from all dataframes\n",
    "            list_aligned_dfs = [df[df['Date'] != data] for df in list_aligned_dfs]\n",
    "\n",
    "    return list_aligned_dfs"
   ]
  },
  {
   "cell_type": "code",
   "execution_count": 19,
   "metadata": {},
   "outputs": [],
   "source": [
    "# Update the list of dataframes\n",
    "updated_list = align_dataframes(str_to_date(\"Date\",updated_list))\n",
    "df_list = updated_list\n",
    "\n",
    "# Update the dataframes\n",
    "air_liquide_stock = df_list[0]\n",
    "peugeot_stock = df_list[1]\n",
    "CAC40 = df_list[2]\n",
    "interest_rate = df_list[3]"
   ]
  },
  {
   "cell_type": "markdown",
   "metadata": {},
   "source": [
    "### Question 3.2\n",
    "**Give a short financial analysis of the two stocks by using relevant concepts of the course.**"
   ]
  },
  {
   "cell_type": "markdown",
   "metadata": {},
   "source": [
    "Closing price trend of *Air Liquide* and *Peugeot* stocks:"
   ]
  },
  {
   "cell_type": "code",
   "execution_count": 38,
   "metadata": {},
   "outputs": [
    {
     "data": {
      "image/png": "[encoded data removed]",
      "text/plain": [
       "<Figure size 1000x500 with 1 Axes>"
      ]
     },
     "metadata": {
      "needs_background": "light"
     },
     "output_type": "display_data"
    }
   ],
   "source": [
    "# Closing price trend\n",
    "plt.figure(figsize=(10, 5), dpi=100)\n",
    "plt.plot(air_liquide_stock['Date'], air_liquide_stock['Close'], label='Air Liquide')\n",
    "plt.plot(peugeot_stock['Date'], peugeot_stock['Close'], label='Peugeot')\n",
    "plt.title('Closing price trend')\n",
    "plt.xlabel('Date')\n",
    "plt.ylabel('Closing price')\n",
    "plt.legend()\n",
    "plt.show()"
   ]
  },
  {
   "cell_type": "markdown",
   "metadata": {},
   "source": [
    "Volatility analysis of *Air Liquide* and *Peugeot* stocks:"
   ]
  },
  {
   "cell_type": "code",
   "execution_count": 21,
   "metadata": {},
   "outputs": [],
   "source": [
    "# Daily return trend\n",
    "air_liquide_stock['Daily Return'] = air_liquide_stock['Close'].pct_change()\n",
    "peugeot_stock['Daily Return'] = peugeot_stock['Close'].pct_change()\n",
    "CAC40['Daily Return'] = CAC40['Close'].pct_change()"
   ]
  },
  {
   "cell_type": "code",
   "execution_count": 37,
   "metadata": {},
   "outputs": [
    {
     "data": {
      "text/html": [
       "<div>\n",
       "<style scoped>\n",
       "    .dataframe tbody tr th:only-of-type {\n",
       "        vertical-align: middle;\n",
       "    }\n",
       "\n",
       "    .dataframe tbody tr th {\n",
       "        vertical-align: top;\n",
       "    }\n",
       "\n",
       "    .dataframe thead th {\n",
       "        text-align: right;\n",
       "    }\n",
       "</style>\n",
       "<table border=\"1\" class=\"dataframe\">\n",
       "  <thead>\n",
       "    <tr style=\"text-align: right;\">\n",
       "      <th></th>\n",
       "      <th>Daily Return Standard Deviation</th>\n",
       "    </tr>\n",
       "    <tr>\n",
       "      <th>Stock</th>\n",
       "      <th></th>\n",
       "    </tr>\n",
       "  </thead>\n",
       "  <tbody>\n",
       "    <tr>\n",
       "      <th>Air Liquide</th>\n",
       "      <td>0.010580</td>\n",
       "    </tr>\n",
       "    <tr>\n",
       "      <th>Peugeot</th>\n",
       "      <td>0.017747</td>\n",
       "    </tr>\n",
       "  </tbody>\n",
       "</table>\n",
       "</div>"
      ],
      "text/plain": [
       "             Daily Return Standard Deviation\n",
       "Stock                                       \n",
       "Air Liquide                         0.010580\n",
       "Peugeot                             0.017747"
      ]
     },
     "execution_count": 37,
     "metadata": {},
     "output_type": "execute_result"
    }
   ],
   "source": [
    "# Standard deviation of the daily returns\n",
    "airliquide_std = air_liquide_stock['Daily Return'].std()\n",
    "peugeot_std = peugeot_stock['Daily Return'].std()\n",
    "\n",
    "# Standard deviation dataframe\n",
    "std_df = pd.DataFrame({'Stock': ['Air Liquide', 'Peugeot'], 'Daily Return Standard Deviation': [airliquide_std, peugeot_std]})\n",
    "std_df = std_df.set_index('Stock', drop=True)\n",
    "\n",
    "std_df"
   ]
  },
  {
   "cell_type": "markdown",
   "metadata": {},
   "source": [
    "From the dataframe above we can see that the volatility of *Air Liquide* stock is higher than the volatility of *Peugeot* stock."
   ]
  },
  {
   "cell_type": "markdown",
   "metadata": {},
   "source": []
  },
  {
   "cell_type": "markdown",
   "metadata": {},
   "source": [
    "### Question 3.3\n",
    "**Compute the return for both stocks and for the CAC40 index. Comment on your results.**"
   ]
  },
  {
   "cell_type": "markdown",
   "metadata": {},
   "source": []
  },
  {
   "cell_type": "markdown",
   "metadata": {},
   "source": []
  },
  {
   "cell_type": "markdown",
   "metadata": {},
   "source": [
    "### Question 3.4\n",
    "**Compute the coefficients of Kurtosis and of asymmetry of the 3 series of `Question 3.3`. Plot the histograms and comment on your results.**"
   ]
  },
  {
   "cell_type": "markdown",
   "metadata": {},
   "source": []
  },
  {
   "cell_type": "markdown",
   "metadata": {},
   "source": []
  },
  {
   "cell_type": "markdown",
   "metadata": {},
   "source": [
    "## Question 3.5\n",
    "**Compute the standard errors of the return for both stocks for the full period and then for 3 sub-periods of equal size. Is volatility constant?**"
   ]
  },
  {
   "cell_type": "markdown",
   "metadata": {},
   "source": []
  },
  {
   "cell_type": "markdown",
   "metadata": {},
   "source": []
  },
  {
   "cell_type": "markdown",
   "metadata": {},
   "source": [
    "## Question 3.6\n",
    "**Compute the correlation between each stock and the CAC40. Comment on your results.**"
   ]
  },
  {
   "cell_type": "markdown",
   "metadata": {},
   "source": []
  },
  {
   "cell_type": "markdown",
   "metadata": {},
   "source": []
  },
  {
   "cell_type": "markdown",
   "metadata": {},
   "source": [
    "## Question 3.7\n",
    "**Compute the returns of a portfolio in which both stocks have an equal weight. Compute the average return and the standard deviation over the whole sample period. Comment on your results.**"
   ]
  },
  {
   "cell_type": "markdown",
   "metadata": {},
   "source": []
  },
  {
   "cell_type": "markdown",
   "metadata": {},
   "source": []
  },
  {
   "cell_type": "markdown",
   "metadata": {},
   "source": [
    "## Question 3.8\n",
    "**Consider a portfolio with one stock and the risk-free interest rate (you can choose the stock out of the two that are available). What is the optimal portfolio allocation between these two assets for an investor with a utility function presented in the course and $A=1.5$?**"
   ]
  },
  {
   "cell_type": "markdown",
   "metadata": {},
   "source": []
  },
  {
   "cell_type": "markdown",
   "metadata": {},
   "source": []
  },
  {
   "cell_type": "markdown",
   "metadata": {},
   "source": [
    "## Question 3.9\n",
    "**Consider the following 3 portfolios: portfolio 1 has stock 1 as the only component; portfolio 2 has stock 2 as the only component; portfolio 3 is the portfolio of `Question 3.7`. These are the only portfolio available to investors. Draw the efficient frontier. Which portfolio are inefficient?**"
   ]
  },
  {
   "cell_type": "markdown",
   "metadata": {},
   "source": []
  },
  {
   "cell_type": "markdown",
   "metadata": {},
   "source": []
  },
  {
   "cell_type": "markdown",
   "metadata": {},
   "source": [
    "## Question 3.10\n",
    "**Consider the portfolio of `Question 3.7`. Compute the Sharpe ratio, the Sortino ratio, the Sterling ratio. Why are there differences between these ratios?**"
   ]
  },
  {
   "cell_type": "markdown",
   "metadata": {},
   "source": []
  },
  {
   "cell_type": "markdown",
   "metadata": {},
   "source": []
  },
  {
   "cell_type": "markdown",
   "metadata": {},
   "source": [
    "## Question 3.11\n",
    "**Compute the empirical VAR at $1\\%$ for the same portfolio. Compute the 1st percentile of the normal distribution with mean and variance corresponding respectively to the empirical mean and to the empirical variance. Comment on your results.**"
   ]
  },
  {
   "cell_type": "markdown",
   "metadata": {},
   "source": []
  },
  {
   "cell_type": "markdown",
   "metadata": {},
   "source": []
  },
  {
   "cell_type": "markdown",
   "metadata": {},
   "source": [
    "## Question 3.12\n",
    "**Compute the VAR using resampling with 1000 observations. Compute the $1\\%$ VAR on the simulated data set. Comment on your results.**"
   ]
  },
  {
   "cell_type": "markdown",
   "metadata": {},
   "source": []
  },
  {
   "cell_type": "markdown",
   "metadata": {},
   "source": []
  },
  {
   "cell_type": "markdown",
   "metadata": {},
   "source": [
    "---\n",
    "## Question 4"
   ]
  },
  {
   "cell_type": "markdown",
   "metadata": {},
   "source": [
    "**Run an automated trading algorithm using any method you want (moving averages, candlesticks, patterns, ML, …) over the sample period. You can only have 3 positions: buy/sell, short/cover, do nothing. You cannot use derivative products. Can you beat the market?**"
   ]
  },
  {
   "cell_type": "markdown",
   "metadata": {},
   "source": []
  },
  {
   "cell_type": "markdown",
   "metadata": {},
   "source": []
  }
 ],
 "metadata": {
  "kernelspec": {
   "display_name": "Python 3 (ipykernel)",
   "language": "python",
   "name": "python3"
  },
  "language_info": {
   "codemirror_mode": {
    "name": "ipython",
    "version": 3
   },
   "file_extension": ".py",
   "mimetype": "text/x-python",
   "name": "python",
   "nbconvert_exporter": "python",
   "pygments_lexer": "ipython3",
   "version": "3.9.12"
  }
 },
 "nbformat": 4,
 "nbformat_minor": 2
}
