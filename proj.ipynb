{
 "cells": [
  {
   "cell_type": "markdown",
   "metadata": {},
   "source": [
    "# MODS205 - Digital Finance - Project\n",
    "\n",
    "### Leonardo Hannas de Carvalho Santos\n",
    "### Vinícius Barros Alvarenga"
   ]
  },
  {
   "cell_type": "markdown",
   "metadata": {},
   "source": [
    "---\n",
    "## Question 1\n",
    "**Comment on the article “Crypto’s Richest Rebel” from Fortune April/May 2022 available on the e-campus website using all keywords and concepts covered in the course.**"
   ]
  },
  {
   "cell_type": "markdown",
   "metadata": {},
   "source": []
  },
  {
   "cell_type": "markdown",
   "metadata": {},
   "source": []
  },
  {
   "cell_type": "markdown",
   "metadata": {},
   "source": [
    "---\n",
    "## Question 2\n",
    "**Comment on the article “Binance CEO Changpeng Zhao charged with money laundering” from Fortune Website 2023-11-23 available on the e-campus website using all keywords and concepts covered in the course.**"
   ]
  },
  {
   "cell_type": "markdown",
   "metadata": {},
   "source": []
  },
  {
   "cell_type": "markdown",
   "metadata": {},
   "source": []
  },
  {
   "cell_type": "markdown",
   "metadata": {},
   "source": [
    "---\n",
    "## Question 3"
   ]
  },
  {
   "cell_type": "code",
   "execution_count": 1,
   "metadata": {},
   "outputs": [],
   "source": [
    "import numpy as np\n",
    "import pandas as pd\n",
    "import seaborn as sns\n",
    "import matplotlib.pyplot as plt"
   ]
  },
  {
   "cell_type": "markdown",
   "metadata": {},
   "source": [
    "### Question 3.1\n",
    "**Import data in Excel (2 stocks, CAC40 index, 5-week interest rate from the US Treasury). Sort data by date and make sure that all dates coincides for all columns. Adjust cells if there are missing values.**"
   ]
  },
  {
   "cell_type": "code",
   "execution_count": 2,
   "metadata": {},
   "outputs": [],
   "source": [
    "# Data for the 2 stocks\n",
    "air_liquide_stock = pd.read_csv('AI.PA.csv')\n",
    "peugeot_stock = pd.read_csv('UG.PA.csv')\n",
    "\n",
    "# Data for the CAC40 index\n",
    "CAC40 = pd.read_csv('^FCHI.csv')\n",
    "\n",
    "# Data for 5-week interest rate from the US Treasury\n",
    "interest_rate = pd.read_csv('^IRX.csv')\n",
    "\n",
    "# List of the dataframes\n",
    "df_list = [air_liquide_stock, peugeot_stock, CAC40, interest_rate]"
   ]
  },
  {
   "cell_type": "code",
   "execution_count": 3,
   "metadata": {},
   "outputs": [],
   "source": [
    "# Function to replace the null (nan) values of the datavrframes with the mean of the column\n",
    "def replace_nan_with_mean(df_list):\n",
    "    updated_dfs = []\n",
    "    for df in df_list:\n",
    "        for col in df.columns:\n",
    "            if df[col].isnull().any():\n",
    "                df[col].fillna(df[col].mean(), inplace=True)\n",
    "        updated_dfs.append(df)\n",
    "    return updated_dfs\n",
    "\n",
    "updated_list = replace_nan_with_mean(df_list)"
   ]
  },
  {
   "cell_type": "code",
   "execution_count": 4,
   "metadata": {},
   "outputs": [
    {
     "name": "stdout",
     "output_type": "stream",
     "text": [
      "The dataframes didn't have null values\n"
     ]
    }
   ],
   "source": [
    "# Check if the dataframes had null values and have been updated\n",
    "if updated_list == df_list:\n",
    "    print(\"The dataframes didn't have null values\")\n",
    "else:\n",
    "    print(\"The dataframes had null values and have been updated\")"
   ]
  },
  {
   "cell_type": "code",
   "execution_count": 5,
   "metadata": {},
   "outputs": [
    {
     "name": "stdout",
     "output_type": "stream",
     "text": [
      "Air liquid stock shape = (255, 7)\n",
      "Peugeot stock shape = (255, 7)\n",
      "CAC40 shape = (255, 7)\n",
      "Interest rate shape = (252, 7)\n"
     ]
    }
   ],
   "source": [
    "# Dimensions of the dataframes\n",
    "print(f\"Air liquid stock shape = {air_liquide_stock.shape}\")\n",
    "print(f\"Peugeot stock shape = {peugeot_stock.shape}\")\n",
    "print(f\"CAC40 shape = {CAC40.shape}\")\n",
    "print(f\"Interest rate shape = {interest_rate.shape}\")"
   ]
  },
  {
   "cell_type": "code",
   "execution_count": 6,
   "metadata": {},
   "outputs": [],
   "source": [
    "# Function to convert the date column from string to datetime\n",
    "def str_to_date(column_name, df_list):\n",
    "    for df in df_list:\n",
    "        df[column_name] = pd.to_datetime(df[column_name])\n",
    "    return df_list"
   ]
  },
  {
   "cell_type": "code",
   "execution_count": 7,
   "metadata": {},
   "outputs": [],
   "source": [
    "def align_dataframes(lista_dfs):\n",
    "    # Create a set with all the dates present in all the dataframes\n",
    "    dates = set.intersection(*(set(df['Date']) for df in lista_dfs))\n",
    "\n",
    "    # Criates a new list of dataframes, where each dataframe is filtered to contain only the dates present in all dataframes\n",
    "    list_aligned_dfs = [df[df['Date'].isin(dates)].sort_values('Date').reset_index(drop=True) for df in lista_dfs]\n",
    "\n",
    "    # Verifies if all the dates are present in all the dataframes\n",
    "    for data in dates:\n",
    "        if not all(data in df['Date'].values for df in list_aligned_dfs):\n",
    "            # If a date is not present in all dataframes, remove that date from all dataframes\n",
    "            list_aligned_dfs = [df[df['Date'] != data] for df in list_aligned_dfs]\n",
    "\n",
    "    return list_aligned_dfs\n",
    "\n",
    "dataframe = align_dataframes(str_to_date(\"Date\",updated_list))"
   ]
  },
  {
   "cell_type": "code",
   "execution_count": 8,
   "metadata": {},
   "outputs": [
    {
     "name": "stdout",
     "output_type": "stream",
     "text": [
      "Air liquid stock:\n"
     ]
    },
    {
     "data": {
      "text/html": [
       "<div>\n",
       "<style scoped>\n",
       "    .dataframe tbody tr th:only-of-type {\n",
       "        vertical-align: middle;\n",
       "    }\n",
       "\n",
       "    .dataframe tbody tr th {\n",
       "        vertical-align: top;\n",
       "    }\n",
       "\n",
       "    .dataframe thead th {\n",
       "        text-align: right;\n",
       "    }\n",
       "</style>\n",
       "<table border=\"1\" class=\"dataframe\">\n",
       "  <thead>\n",
       "    <tr style=\"text-align: right;\">\n",
       "      <th></th>\n",
       "      <th>Date</th>\n",
       "      <th>Open</th>\n",
       "      <th>High</th>\n",
       "      <th>Low</th>\n",
       "      <th>Close</th>\n",
       "      <th>Adj Close</th>\n",
       "      <th>Volume</th>\n",
       "    </tr>\n",
       "  </thead>\n",
       "  <tbody>\n",
       "    <tr>\n",
       "      <th>0</th>\n",
       "      <td>2017-10-24</td>\n",
       "      <td>105.150002</td>\n",
       "      <td>105.750000</td>\n",
       "      <td>104.500000</td>\n",
       "      <td>104.550003</td>\n",
       "      <td>102.062950</td>\n",
       "      <td>941514</td>\n",
       "    </tr>\n",
       "    <tr>\n",
       "      <th>1</th>\n",
       "      <td>2017-10-25</td>\n",
       "      <td>105.800003</td>\n",
       "      <td>108.099998</td>\n",
       "      <td>105.650002</td>\n",
       "      <td>107.150002</td>\n",
       "      <td>104.601097</td>\n",
       "      <td>1583835</td>\n",
       "    </tr>\n",
       "    <tr>\n",
       "      <th>2</th>\n",
       "      <td>2017-10-26</td>\n",
       "      <td>107.599998</td>\n",
       "      <td>108.150002</td>\n",
       "      <td>106.849998</td>\n",
       "      <td>108.150002</td>\n",
       "      <td>105.577316</td>\n",
       "      <td>1502080</td>\n",
       "    </tr>\n",
       "    <tr>\n",
       "      <th>3</th>\n",
       "      <td>2017-10-27</td>\n",
       "      <td>108.250000</td>\n",
       "      <td>109.800003</td>\n",
       "      <td>108.150002</td>\n",
       "      <td>109.199997</td>\n",
       "      <td>106.602333</td>\n",
       "      <td>1103835</td>\n",
       "    </tr>\n",
       "    <tr>\n",
       "      <th>4</th>\n",
       "      <td>2017-10-30</td>\n",
       "      <td>109.199997</td>\n",
       "      <td>109.400002</td>\n",
       "      <td>108.150002</td>\n",
       "      <td>109.000000</td>\n",
       "      <td>106.407089</td>\n",
       "      <td>661225</td>\n",
       "    </tr>\n",
       "    <tr>\n",
       "      <th>...</th>\n",
       "      <td>...</td>\n",
       "      <td>...</td>\n",
       "      <td>...</td>\n",
       "      <td>...</td>\n",
       "      <td>...</td>\n",
       "      <td>...</td>\n",
       "      <td>...</td>\n",
       "    </tr>\n",
       "    <tr>\n",
       "      <th>244</th>\n",
       "      <td>2018-10-17</td>\n",
       "      <td>108.150002</td>\n",
       "      <td>109.099998</td>\n",
       "      <td>106.300003</td>\n",
       "      <td>106.699997</td>\n",
       "      <td>106.699997</td>\n",
       "      <td>920697</td>\n",
       "    </tr>\n",
       "    <tr>\n",
       "      <th>245</th>\n",
       "      <td>2018-10-18</td>\n",
       "      <td>106.949997</td>\n",
       "      <td>108.000000</td>\n",
       "      <td>105.750000</td>\n",
       "      <td>106.250000</td>\n",
       "      <td>106.250000</td>\n",
       "      <td>1190049</td>\n",
       "    </tr>\n",
       "    <tr>\n",
       "      <th>246</th>\n",
       "      <td>2018-10-19</td>\n",
       "      <td>107.000000</td>\n",
       "      <td>107.050003</td>\n",
       "      <td>104.599998</td>\n",
       "      <td>105.699997</td>\n",
       "      <td>105.699997</td>\n",
       "      <td>1599979</td>\n",
       "    </tr>\n",
       "    <tr>\n",
       "      <th>247</th>\n",
       "      <td>2018-10-22</td>\n",
       "      <td>106.650002</td>\n",
       "      <td>106.949997</td>\n",
       "      <td>105.750000</td>\n",
       "      <td>106.199997</td>\n",
       "      <td>106.199997</td>\n",
       "      <td>927390</td>\n",
       "    </tr>\n",
       "    <tr>\n",
       "      <th>248</th>\n",
       "      <td>2018-10-23</td>\n",
       "      <td>105.250000</td>\n",
       "      <td>107.300003</td>\n",
       "      <td>104.750000</td>\n",
       "      <td>104.949997</td>\n",
       "      <td>104.949997</td>\n",
       "      <td>1319813</td>\n",
       "    </tr>\n",
       "  </tbody>\n",
       "</table>\n",
       "<p>249 rows × 7 columns</p>\n",
       "</div>"
      ],
      "text/plain": [
       "          Date        Open        High         Low       Close   Adj Close  \\\n",
       "0   2017-10-24  105.150002  105.750000  104.500000  104.550003  102.062950   \n",
       "1   2017-10-25  105.800003  108.099998  105.650002  107.150002  104.601097   \n",
       "2   2017-10-26  107.599998  108.150002  106.849998  108.150002  105.577316   \n",
       "3   2017-10-27  108.250000  109.800003  108.150002  109.199997  106.602333   \n",
       "4   2017-10-30  109.199997  109.400002  108.150002  109.000000  106.407089   \n",
       "..         ...         ...         ...         ...         ...         ...   \n",
       "244 2018-10-17  108.150002  109.099998  106.300003  106.699997  106.699997   \n",
       "245 2018-10-18  106.949997  108.000000  105.750000  106.250000  106.250000   \n",
       "246 2018-10-19  107.000000  107.050003  104.599998  105.699997  105.699997   \n",
       "247 2018-10-22  106.650002  106.949997  105.750000  106.199997  106.199997   \n",
       "248 2018-10-23  105.250000  107.300003  104.750000  104.949997  104.949997   \n",
       "\n",
       "      Volume  \n",
       "0     941514  \n",
       "1    1583835  \n",
       "2    1502080  \n",
       "3    1103835  \n",
       "4     661225  \n",
       "..       ...  \n",
       "244   920697  \n",
       "245  1190049  \n",
       "246  1599979  \n",
       "247   927390  \n",
       "248  1319813  \n",
       "\n",
       "[249 rows x 7 columns]"
      ]
     },
     "execution_count": 8,
     "metadata": {},
     "output_type": "execute_result"
    }
   ],
   "source": [
    "print(f\"Air liquid stock:\")\n",
    "dataframe[0]"
   ]
  },
  {
   "cell_type": "code",
   "execution_count": 9,
   "metadata": {},
   "outputs": [
    {
     "name": "stdout",
     "output_type": "stream",
     "text": [
      "Peugeot stock:\n"
     ]
    },
    {
     "data": {
      "text/html": [
       "<div>\n",
       "<style scoped>\n",
       "    .dataframe tbody tr th:only-of-type {\n",
       "        vertical-align: middle;\n",
       "    }\n",
       "\n",
       "    .dataframe tbody tr th {\n",
       "        vertical-align: top;\n",
       "    }\n",
       "\n",
       "    .dataframe thead th {\n",
       "        text-align: right;\n",
       "    }\n",
       "</style>\n",
       "<table border=\"1\" class=\"dataframe\">\n",
       "  <thead>\n",
       "    <tr style=\"text-align: right;\">\n",
       "      <th></th>\n",
       "      <th>Date</th>\n",
       "      <th>Open</th>\n",
       "      <th>High</th>\n",
       "      <th>Low</th>\n",
       "      <th>Close</th>\n",
       "      <th>Adj Close</th>\n",
       "      <th>Volume</th>\n",
       "    </tr>\n",
       "  </thead>\n",
       "  <tbody>\n",
       "    <tr>\n",
       "      <th>0</th>\n",
       "      <td>2017-10-24</td>\n",
       "      <td>20.059999</td>\n",
       "      <td>20.370001</td>\n",
       "      <td>19.985001</td>\n",
       "      <td>20.370001</td>\n",
       "      <td>20.370001</td>\n",
       "      <td>2962662</td>\n",
       "    </tr>\n",
       "    <tr>\n",
       "      <th>1</th>\n",
       "      <td>2017-10-25</td>\n",
       "      <td>20.500000</td>\n",
       "      <td>20.555000</td>\n",
       "      <td>19.905001</td>\n",
       "      <td>20.055000</td>\n",
       "      <td>20.055000</td>\n",
       "      <td>5756417</td>\n",
       "    </tr>\n",
       "    <tr>\n",
       "      <th>2</th>\n",
       "      <td>2017-10-26</td>\n",
       "      <td>20.014999</td>\n",
       "      <td>20.315001</td>\n",
       "      <td>19.959999</td>\n",
       "      <td>20.235001</td>\n",
       "      <td>20.235001</td>\n",
       "      <td>2995521</td>\n",
       "    </tr>\n",
       "    <tr>\n",
       "      <th>3</th>\n",
       "      <td>2017-10-27</td>\n",
       "      <td>20.400000</td>\n",
       "      <td>20.510000</td>\n",
       "      <td>20.190001</td>\n",
       "      <td>20.250000</td>\n",
       "      <td>20.250000</td>\n",
       "      <td>2635220</td>\n",
       "    </tr>\n",
       "    <tr>\n",
       "      <th>4</th>\n",
       "      <td>2017-10-30</td>\n",
       "      <td>20.280001</td>\n",
       "      <td>20.469999</td>\n",
       "      <td>20.145000</td>\n",
       "      <td>20.215000</td>\n",
       "      <td>20.215000</td>\n",
       "      <td>2090823</td>\n",
       "    </tr>\n",
       "    <tr>\n",
       "      <th>...</th>\n",
       "      <td>...</td>\n",
       "      <td>...</td>\n",
       "      <td>...</td>\n",
       "      <td>...</td>\n",
       "      <td>...</td>\n",
       "      <td>...</td>\n",
       "      <td>...</td>\n",
       "    </tr>\n",
       "    <tr>\n",
       "      <th>244</th>\n",
       "      <td>2018-10-17</td>\n",
       "      <td>21.760000</td>\n",
       "      <td>21.820000</td>\n",
       "      <td>20.410000</td>\n",
       "      <td>20.650000</td>\n",
       "      <td>20.650000</td>\n",
       "      <td>5217111</td>\n",
       "    </tr>\n",
       "    <tr>\n",
       "      <th>245</th>\n",
       "      <td>2018-10-18</td>\n",
       "      <td>20.650000</td>\n",
       "      <td>21.090000</td>\n",
       "      <td>20.600000</td>\n",
       "      <td>20.680000</td>\n",
       "      <td>20.680000</td>\n",
       "      <td>2721052</td>\n",
       "    </tr>\n",
       "    <tr>\n",
       "      <th>246</th>\n",
       "      <td>2018-10-19</td>\n",
       "      <td>20.690001</td>\n",
       "      <td>20.690001</td>\n",
       "      <td>19.305000</td>\n",
       "      <td>20.160000</td>\n",
       "      <td>20.160000</td>\n",
       "      <td>5880226</td>\n",
       "    </tr>\n",
       "    <tr>\n",
       "      <th>247</th>\n",
       "      <td>2018-10-22</td>\n",
       "      <td>20.360001</td>\n",
       "      <td>20.629999</td>\n",
       "      <td>19.535000</td>\n",
       "      <td>19.750000</td>\n",
       "      <td>19.750000</td>\n",
       "      <td>2932595</td>\n",
       "    </tr>\n",
       "    <tr>\n",
       "      <th>248</th>\n",
       "      <td>2018-10-23</td>\n",
       "      <td>19.250000</td>\n",
       "      <td>20.100000</td>\n",
       "      <td>19.055000</td>\n",
       "      <td>20.030001</td>\n",
       "      <td>20.030001</td>\n",
       "      <td>6235014</td>\n",
       "    </tr>\n",
       "  </tbody>\n",
       "</table>\n",
       "<p>249 rows × 7 columns</p>\n",
       "</div>"
      ],
      "text/plain": [
       "          Date       Open       High        Low      Close  Adj Close   Volume\n",
       "0   2017-10-24  20.059999  20.370001  19.985001  20.370001  20.370001  2962662\n",
       "1   2017-10-25  20.500000  20.555000  19.905001  20.055000  20.055000  5756417\n",
       "2   2017-10-26  20.014999  20.315001  19.959999  20.235001  20.235001  2995521\n",
       "3   2017-10-27  20.400000  20.510000  20.190001  20.250000  20.250000  2635220\n",
       "4   2017-10-30  20.280001  20.469999  20.145000  20.215000  20.215000  2090823\n",
       "..         ...        ...        ...        ...        ...        ...      ...\n",
       "244 2018-10-17  21.760000  21.820000  20.410000  20.650000  20.650000  5217111\n",
       "245 2018-10-18  20.650000  21.090000  20.600000  20.680000  20.680000  2721052\n",
       "246 2018-10-19  20.690001  20.690001  19.305000  20.160000  20.160000  5880226\n",
       "247 2018-10-22  20.360001  20.629999  19.535000  19.750000  19.750000  2932595\n",
       "248 2018-10-23  19.250000  20.100000  19.055000  20.030001  20.030001  6235014\n",
       "\n",
       "[249 rows x 7 columns]"
      ]
     },
     "execution_count": 9,
     "metadata": {},
     "output_type": "execute_result"
    }
   ],
   "source": [
    "print(f\"Peugeot stock:\")\n",
    "dataframe[1]"
   ]
  },
  {
   "cell_type": "code",
   "execution_count": 10,
   "metadata": {},
   "outputs": [
    {
     "name": "stdout",
     "output_type": "stream",
     "text": [
      "CAC40:\n"
     ]
    },
    {
     "data": {
      "text/html": [
       "<div>\n",
       "<style scoped>\n",
       "    .dataframe tbody tr th:only-of-type {\n",
       "        vertical-align: middle;\n",
       "    }\n",
       "\n",
       "    .dataframe tbody tr th {\n",
       "        vertical-align: top;\n",
       "    }\n",
       "\n",
       "    .dataframe thead th {\n",
       "        text-align: right;\n",
       "    }\n",
       "</style>\n",
       "<table border=\"1\" class=\"dataframe\">\n",
       "  <thead>\n",
       "    <tr style=\"text-align: right;\">\n",
       "      <th></th>\n",
       "      <th>Date</th>\n",
       "      <th>Open</th>\n",
       "      <th>High</th>\n",
       "      <th>Low</th>\n",
       "      <th>Close</th>\n",
       "      <th>Adj Close</th>\n",
       "      <th>Volume</th>\n",
       "    </tr>\n",
       "  </thead>\n",
       "  <tbody>\n",
       "    <tr>\n",
       "      <th>0</th>\n",
       "      <td>2017-10-24</td>\n",
       "      <td>5377.859863</td>\n",
       "      <td>5413.029785</td>\n",
       "      <td>5377.859863</td>\n",
       "      <td>5394.799805</td>\n",
       "      <td>5394.799805</td>\n",
       "      <td>74560600</td>\n",
       "    </tr>\n",
       "    <tr>\n",
       "      <th>1</th>\n",
       "      <td>2017-10-25</td>\n",
       "      <td>5399.609863</td>\n",
       "      <td>5416.540039</td>\n",
       "      <td>5364.160156</td>\n",
       "      <td>5374.890137</td>\n",
       "      <td>5374.890137</td>\n",
       "      <td>80466800</td>\n",
       "    </tr>\n",
       "    <tr>\n",
       "      <th>2</th>\n",
       "      <td>2017-10-26</td>\n",
       "      <td>5383.439941</td>\n",
       "      <td>5459.609863</td>\n",
       "      <td>5375.259766</td>\n",
       "      <td>5455.399902</td>\n",
       "      <td>5455.399902</td>\n",
       "      <td>90950700</td>\n",
       "    </tr>\n",
       "    <tr>\n",
       "      <th>3</th>\n",
       "      <td>2017-10-27</td>\n",
       "      <td>5470.339844</td>\n",
       "      <td>5513.529785</td>\n",
       "      <td>5470.240234</td>\n",
       "      <td>5494.129883</td>\n",
       "      <td>5494.129883</td>\n",
       "      <td>95585200</td>\n",
       "    </tr>\n",
       "    <tr>\n",
       "      <th>4</th>\n",
       "      <td>2017-10-30</td>\n",
       "      <td>5488.330078</td>\n",
       "      <td>5507.560059</td>\n",
       "      <td>5487.290039</td>\n",
       "      <td>5493.629883</td>\n",
       "      <td>5493.629883</td>\n",
       "      <td>67428800</td>\n",
       "    </tr>\n",
       "    <tr>\n",
       "      <th>...</th>\n",
       "      <td>...</td>\n",
       "      <td>...</td>\n",
       "      <td>...</td>\n",
       "      <td>...</td>\n",
       "      <td>...</td>\n",
       "      <td>...</td>\n",
       "      <td>...</td>\n",
       "    </tr>\n",
       "    <tr>\n",
       "      <th>244</th>\n",
       "      <td>2018-10-17</td>\n",
       "      <td>5187.109863</td>\n",
       "      <td>5205.379883</td>\n",
       "      <td>5117.229980</td>\n",
       "      <td>5144.950195</td>\n",
       "      <td>5144.950195</td>\n",
       "      <td>90604000</td>\n",
       "    </tr>\n",
       "    <tr>\n",
       "      <th>245</th>\n",
       "      <td>2018-10-18</td>\n",
       "      <td>5150.229980</td>\n",
       "      <td>5175.589844</td>\n",
       "      <td>5115.310059</td>\n",
       "      <td>5116.790039</td>\n",
       "      <td>5116.790039</td>\n",
       "      <td>99240000</td>\n",
       "    </tr>\n",
       "    <tr>\n",
       "      <th>246</th>\n",
       "      <td>2018-10-19</td>\n",
       "      <td>5119.640137</td>\n",
       "      <td>5133.589844</td>\n",
       "      <td>5057.450195</td>\n",
       "      <td>5084.660156</td>\n",
       "      <td>5084.660156</td>\n",
       "      <td>130238900</td>\n",
       "    </tr>\n",
       "    <tr>\n",
       "      <th>247</th>\n",
       "      <td>2018-10-22</td>\n",
       "      <td>5130.290039</td>\n",
       "      <td>5135.689941</td>\n",
       "      <td>5052.240234</td>\n",
       "      <td>5053.310059</td>\n",
       "      <td>5053.310059</td>\n",
       "      <td>74610400</td>\n",
       "    </tr>\n",
       "    <tr>\n",
       "      <th>248</th>\n",
       "      <td>2018-10-23</td>\n",
       "      <td>4991.910156</td>\n",
       "      <td>5009.430176</td>\n",
       "      <td>4955.669922</td>\n",
       "      <td>4967.689941</td>\n",
       "      <td>4967.689941</td>\n",
       "      <td>0</td>\n",
       "    </tr>\n",
       "  </tbody>\n",
       "</table>\n",
       "<p>249 rows × 7 columns</p>\n",
       "</div>"
      ],
      "text/plain": [
       "          Date         Open         High          Low        Close  \\\n",
       "0   2017-10-24  5377.859863  5413.029785  5377.859863  5394.799805   \n",
       "1   2017-10-25  5399.609863  5416.540039  5364.160156  5374.890137   \n",
       "2   2017-10-26  5383.439941  5459.609863  5375.259766  5455.399902   \n",
       "3   2017-10-27  5470.339844  5513.529785  5470.240234  5494.129883   \n",
       "4   2017-10-30  5488.330078  5507.560059  5487.290039  5493.629883   \n",
       "..         ...          ...          ...          ...          ...   \n",
       "244 2018-10-17  5187.109863  5205.379883  5117.229980  5144.950195   \n",
       "245 2018-10-18  5150.229980  5175.589844  5115.310059  5116.790039   \n",
       "246 2018-10-19  5119.640137  5133.589844  5057.450195  5084.660156   \n",
       "247 2018-10-22  5130.290039  5135.689941  5052.240234  5053.310059   \n",
       "248 2018-10-23  4991.910156  5009.430176  4955.669922  4967.689941   \n",
       "\n",
       "       Adj Close     Volume  \n",
       "0    5394.799805   74560600  \n",
       "1    5374.890137   80466800  \n",
       "2    5455.399902   90950700  \n",
       "3    5494.129883   95585200  \n",
       "4    5493.629883   67428800  \n",
       "..           ...        ...  \n",
       "244  5144.950195   90604000  \n",
       "245  5116.790039   99240000  \n",
       "246  5084.660156  130238900  \n",
       "247  5053.310059   74610400  \n",
       "248  4967.689941          0  \n",
       "\n",
       "[249 rows x 7 columns]"
      ]
     },
     "execution_count": 10,
     "metadata": {},
     "output_type": "execute_result"
    }
   ],
   "source": [
    "print(f\"CAC40:\")\n",
    "dataframe[2]"
   ]
  },
  {
   "cell_type": "code",
   "execution_count": 11,
   "metadata": {},
   "outputs": [
    {
     "name": "stdout",
     "output_type": "stream",
     "text": [
      "Interest rate:\n"
     ]
    },
    {
     "data": {
      "text/html": [
       "<div>\n",
       "<style scoped>\n",
       "    .dataframe tbody tr th:only-of-type {\n",
       "        vertical-align: middle;\n",
       "    }\n",
       "\n",
       "    .dataframe tbody tr th {\n",
       "        vertical-align: top;\n",
       "    }\n",
       "\n",
       "    .dataframe thead th {\n",
       "        text-align: right;\n",
       "    }\n",
       "</style>\n",
       "<table border=\"1\" class=\"dataframe\">\n",
       "  <thead>\n",
       "    <tr style=\"text-align: right;\">\n",
       "      <th></th>\n",
       "      <th>Date</th>\n",
       "      <th>Open</th>\n",
       "      <th>High</th>\n",
       "      <th>Low</th>\n",
       "      <th>Close</th>\n",
       "      <th>Adj Close</th>\n",
       "      <th>Volume</th>\n",
       "    </tr>\n",
       "  </thead>\n",
       "  <tbody>\n",
       "    <tr>\n",
       "      <th>0</th>\n",
       "      <td>2017-10-24</td>\n",
       "      <td>1.098</td>\n",
       "      <td>1.098</td>\n",
       "      <td>1.098</td>\n",
       "      <td>1.098</td>\n",
       "      <td>1.098</td>\n",
       "      <td>0</td>\n",
       "    </tr>\n",
       "    <tr>\n",
       "      <th>1</th>\n",
       "      <td>2017-10-25</td>\n",
       "      <td>1.095</td>\n",
       "      <td>1.098</td>\n",
       "      <td>1.080</td>\n",
       "      <td>1.083</td>\n",
       "      <td>1.083</td>\n",
       "      <td>0</td>\n",
       "    </tr>\n",
       "    <tr>\n",
       "      <th>2</th>\n",
       "      <td>2017-10-26</td>\n",
       "      <td>1.080</td>\n",
       "      <td>1.083</td>\n",
       "      <td>1.075</td>\n",
       "      <td>1.080</td>\n",
       "      <td>1.080</td>\n",
       "      <td>0</td>\n",
       "    </tr>\n",
       "    <tr>\n",
       "      <th>3</th>\n",
       "      <td>2017-10-27</td>\n",
       "      <td>1.075</td>\n",
       "      <td>1.075</td>\n",
       "      <td>1.073</td>\n",
       "      <td>1.073</td>\n",
       "      <td>1.073</td>\n",
       "      <td>0</td>\n",
       "    </tr>\n",
       "    <tr>\n",
       "      <th>4</th>\n",
       "      <td>2017-10-30</td>\n",
       "      <td>1.073</td>\n",
       "      <td>1.080</td>\n",
       "      <td>1.073</td>\n",
       "      <td>1.075</td>\n",
       "      <td>1.075</td>\n",
       "      <td>0</td>\n",
       "    </tr>\n",
       "    <tr>\n",
       "      <th>...</th>\n",
       "      <td>...</td>\n",
       "      <td>...</td>\n",
       "      <td>...</td>\n",
       "      <td>...</td>\n",
       "      <td>...</td>\n",
       "      <td>...</td>\n",
       "      <td>...</td>\n",
       "    </tr>\n",
       "    <tr>\n",
       "      <th>244</th>\n",
       "      <td>2018-10-17</td>\n",
       "      <td>2.260</td>\n",
       "      <td>2.270</td>\n",
       "      <td>2.260</td>\n",
       "      <td>2.260</td>\n",
       "      <td>2.260</td>\n",
       "      <td>0</td>\n",
       "    </tr>\n",
       "    <tr>\n",
       "      <th>245</th>\n",
       "      <td>2018-10-18</td>\n",
       "      <td>2.258</td>\n",
       "      <td>2.260</td>\n",
       "      <td>2.255</td>\n",
       "      <td>2.255</td>\n",
       "      <td>2.255</td>\n",
       "      <td>0</td>\n",
       "    </tr>\n",
       "    <tr>\n",
       "      <th>246</th>\n",
       "      <td>2018-10-19</td>\n",
       "      <td>2.255</td>\n",
       "      <td>2.260</td>\n",
       "      <td>2.255</td>\n",
       "      <td>2.260</td>\n",
       "      <td>2.260</td>\n",
       "      <td>0</td>\n",
       "    </tr>\n",
       "    <tr>\n",
       "      <th>247</th>\n",
       "      <td>2018-10-22</td>\n",
       "      <td>2.258</td>\n",
       "      <td>2.260</td>\n",
       "      <td>2.258</td>\n",
       "      <td>2.258</td>\n",
       "      <td>2.258</td>\n",
       "      <td>0</td>\n",
       "    </tr>\n",
       "    <tr>\n",
       "      <th>248</th>\n",
       "      <td>2018-10-23</td>\n",
       "      <td>2.285</td>\n",
       "      <td>2.290</td>\n",
       "      <td>2.285</td>\n",
       "      <td>2.290</td>\n",
       "      <td>2.290</td>\n",
       "      <td>0</td>\n",
       "    </tr>\n",
       "  </tbody>\n",
       "</table>\n",
       "<p>249 rows × 7 columns</p>\n",
       "</div>"
      ],
      "text/plain": [
       "          Date   Open   High    Low  Close  Adj Close  Volume\n",
       "0   2017-10-24  1.098  1.098  1.098  1.098      1.098       0\n",
       "1   2017-10-25  1.095  1.098  1.080  1.083      1.083       0\n",
       "2   2017-10-26  1.080  1.083  1.075  1.080      1.080       0\n",
       "3   2017-10-27  1.075  1.075  1.073  1.073      1.073       0\n",
       "4   2017-10-30  1.073  1.080  1.073  1.075      1.075       0\n",
       "..         ...    ...    ...    ...    ...        ...     ...\n",
       "244 2018-10-17  2.260  2.270  2.260  2.260      2.260       0\n",
       "245 2018-10-18  2.258  2.260  2.255  2.255      2.255       0\n",
       "246 2018-10-19  2.255  2.260  2.255  2.260      2.260       0\n",
       "247 2018-10-22  2.258  2.260  2.258  2.258      2.258       0\n",
       "248 2018-10-23  2.285  2.290  2.285  2.290      2.290       0\n",
       "\n",
       "[249 rows x 7 columns]"
      ]
     },
     "execution_count": 11,
     "metadata": {},
     "output_type": "execute_result"
    }
   ],
   "source": [
    "print(f\"Interest rate:\")\n",
    "dataframe[3]"
   ]
  },
  {
   "cell_type": "markdown",
   "metadata": {},
   "source": [
    "### Question 3.2\n",
    "**Give a short financial analysis of the two stocks by using relevant concepts of the course.**"
   ]
  },
  {
   "cell_type": "code",
   "execution_count": 12,
   "metadata": {},
   "outputs": [],
   "source": [
    "updated_list[0].to_csv('air_liquide_stock.csv', index=False)\n",
    "updated_list[1].to_csv('peugeot_stock.csv', index=False)\n"
   ]
  },
  {
   "cell_type": "markdown",
   "metadata": {},
   "source": []
  },
  {
   "cell_type": "markdown",
   "metadata": {},
   "source": []
  },
  {
   "cell_type": "markdown",
   "metadata": {},
   "source": [
    "### Question 3.3\n",
    "**Compute the return for both stocks and for the CAC40 index. Comment on your results.**"
   ]
  },
  {
   "cell_type": "markdown",
   "metadata": {},
   "source": []
  },
  {
   "cell_type": "markdown",
   "metadata": {},
   "source": []
  },
  {
   "cell_type": "markdown",
   "metadata": {},
   "source": [
    "### Question 3.4\n",
    "**Compute the coefficients of Kurtosis and of asymmetry of the 3 series of `Question 3.3`. Plot the histograms and comment on your results.**"
   ]
  },
  {
   "cell_type": "markdown",
   "metadata": {},
   "source": []
  },
  {
   "cell_type": "markdown",
   "metadata": {},
   "source": []
  },
  {
   "cell_type": "markdown",
   "metadata": {},
   "source": [
    "## Question 3.5\n",
    "**Compute the standard errors of the return for both stocks for the full period and then for 3 sub-periods of equal size. Is volatility constant?**"
   ]
  },
  {
   "cell_type": "markdown",
   "metadata": {},
   "source": []
  },
  {
   "cell_type": "markdown",
   "metadata": {},
   "source": []
  },
  {
   "cell_type": "markdown",
   "metadata": {},
   "source": [
    "## Question 3.6\n",
    "**Compute the correlation between each stock and the CAC40. Comment on your results.**"
   ]
  },
  {
   "cell_type": "markdown",
   "metadata": {},
   "source": []
  },
  {
   "cell_type": "markdown",
   "metadata": {},
   "source": []
  },
  {
   "cell_type": "markdown",
   "metadata": {},
   "source": [
    "## Question 3.7\n",
    "**Compute the returns of a portfolio in which both stocks have an equal weight. Compute the average return and the standard deviation over the whole sample period. Comment on your results.**"
   ]
  },
  {
   "cell_type": "markdown",
   "metadata": {},
   "source": []
  },
  {
   "cell_type": "markdown",
   "metadata": {},
   "source": []
  },
  {
   "cell_type": "markdown",
   "metadata": {},
   "source": [
    "## Question 3.8\n",
    "**Consider a portfolio with one stock and the risk-free interest rate (you can choose the stock out of the two that are available). What is the optimal portfolio allocation between these two assets for an investor with a utility function presented in the course and $A=1.5$?**"
   ]
  },
  {
   "cell_type": "markdown",
   "metadata": {},
   "source": []
  },
  {
   "cell_type": "markdown",
   "metadata": {},
   "source": []
  },
  {
   "cell_type": "markdown",
   "metadata": {},
   "source": [
    "## Question 3.9\n",
    "**Consider the following 3 portfolios: portfolio 1 has stock 1 as the only component; portfolio 2 has stock 2 as the only component; portfolio 3 is the portfolio of `Question 3.7`. These are the only portfolio available to investors. Draw the efficient frontier. Which portfolio are inefficient?**"
   ]
  },
  {
   "cell_type": "markdown",
   "metadata": {},
   "source": []
  },
  {
   "cell_type": "markdown",
   "metadata": {},
   "source": []
  },
  {
   "cell_type": "markdown",
   "metadata": {},
   "source": [
    "## Question 3.10\n",
    "**Consider the portfolio of `Question 3.7`. Compute the Sharpe ratio, the Sortino ratio, the Sterling ratio. Why are there differences between these ratios?**"
   ]
  },
  {
   "cell_type": "markdown",
   "metadata": {},
   "source": []
  },
  {
   "cell_type": "markdown",
   "metadata": {},
   "source": []
  },
  {
   "cell_type": "markdown",
   "metadata": {},
   "source": [
    "## Question 3.11\n",
    "**Compute the empirical VAR at $1\\%$ for the same portfolio. Compute the 1st percentile of the normal distribution with mean and variance corresponding respectively to the empirical mean and to the empirical variance. Comment on your results.**"
   ]
  },
  {
   "cell_type": "markdown",
   "metadata": {},
   "source": []
  },
  {
   "cell_type": "markdown",
   "metadata": {},
   "source": []
  },
  {
   "cell_type": "markdown",
   "metadata": {},
   "source": [
    "## Question 3.12\n",
    "**Compute the VAR using resampling with 1000 observations. Compute the $1\\%$ VAR on the simulated data set. Comment on your results.**"
   ]
  },
  {
   "cell_type": "markdown",
   "metadata": {},
   "source": []
  },
  {
   "cell_type": "markdown",
   "metadata": {},
   "source": []
  },
  {
   "cell_type": "markdown",
   "metadata": {},
   "source": [
    "---\n",
    "## Question 4"
   ]
  },
  {
   "cell_type": "markdown",
   "metadata": {},
   "source": [
    "**Run an automated trading algorithm using any method you want (moving averages, candlesticks, patterns, ML, …) over the sample period. You can only have 3 positions: buy/sell, short/cover, do nothing. You cannot use derivative products. Can you beat the market?**"
   ]
  },
  {
   "cell_type": "markdown",
   "metadata": {},
   "source": []
  },
  {
   "cell_type": "markdown",
   "metadata": {},
   "source": []
  }
 ],
 "metadata": {
  "kernelspec": {
   "display_name": "Python 3 (ipykernel)",
   "language": "python",
   "name": "python3"
  },
  "language_info": {
   "codemirror_mode": {
    "name": "ipython",
    "version": 3
   },
   "file_extension": ".py",
   "mimetype": "text/x-python",
   "name": "python",
   "nbconvert_exporter": "python",
   "pygments_lexer": "ipython3",
   "version": "3.9.12"
  }
 },
 "nbformat": 4,
 "nbformat_minor": 2
}
